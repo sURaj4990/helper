{
 "cells": [
  {
   "cell_type": "code",
   "execution_count": 1,
   "id": "addb4f5b",
   "metadata": {},
   "outputs": [],
   "source": [
    "import pandas as pd\n",
    "import numpy as np"
   ]
  },
  {
   "cell_type": "code",
   "execution_count": 2,
   "id": "0d6f3a0e",
   "metadata": {},
   "outputs": [],
   "source": [
    "x = np.array(([2, 9], [1, 5], [3, 4]), dtype = float)\n",
    "y = np.array(([92], [86], [89]), dtype = float)\n",
    "x = x / np.amax(x, axis = 0)\n",
    "y = y / 100"
   ]
  },
  {
   "cell_type": "code",
   "execution_count": 3,
   "id": "01b6a6b8",
   "metadata": {},
   "outputs": [],
   "source": [
    "def sigmoid(x):\n",
    "    return 1 / (1 + np.exp(-x))"
   ]
  },
  {
   "cell_type": "code",
   "execution_count": 4,
   "id": "cdbf69fb",
   "metadata": {},
   "outputs": [],
   "source": [
    "def derivatives_sigmoid(x):\n",
    "    return x * (1 - x)"
   ]
  },
  {
   "cell_type": "code",
   "execution_count": 5,
   "id": "e015d6bb",
   "metadata": {},
   "outputs": [],
   "source": [
    "epoch = 5\n",
    "lr = 0.5\n",
    "\n",
    "ip_neurons = 2\n",
    "hp_neurons = 3\n",
    "op_neurons = 1\n",
    "\n",
    "wh = np.random.uniform(size = (ip_neurons, hp_neurons))\n",
    "wout = np.random.uniform(size = (hp_neurons, op_neurons))"
   ]
  },
  {
   "cell_type": "code",
   "execution_count": 11,
   "id": "cf43c162",
   "metadata": {},
   "outputs": [
    {
     "name": "stdout",
     "output_type": "stream",
     "text": [
      "_________________EPOCH - 1 Starts_______________\n",
      "Input:\n",
      "[[0.66666667 1.        ]\n",
      " [0.33333333 0.55555556]\n",
      " [1.         0.44444444]]\n",
      "Actual Output:\n",
      "[[0.92]\n",
      " [0.86]\n",
      " [0.89]]\n",
      "Predicted output:\n",
      "[[0.87139833]\n",
      " [0.84004229]\n",
      " [0.85483511]]\n",
      "_________________EPOCH - 1 Ends_________________\n",
      "\n",
      "_________________EPOCH - 2 Starts_______________\n",
      "Input:\n",
      "[[0.66666667 1.        ]\n",
      " [0.33333333 0.55555556]\n",
      " [1.         0.44444444]]\n",
      "Actual Output:\n",
      "[[0.92]\n",
      " [0.86]\n",
      " [0.89]]\n",
      "Predicted output:\n",
      "[[0.87251612]\n",
      " [0.84118799]\n",
      " [0.85599942]]\n",
      "_________________EPOCH - 2 Ends_________________\n",
      "\n",
      "_________________EPOCH - 3 Starts_______________\n",
      "Input:\n",
      "[[0.66666667 1.        ]\n",
      " [0.33333333 0.55555556]\n",
      " [1.         0.44444444]]\n",
      "Actual Output:\n",
      "[[0.92]\n",
      " [0.86]\n",
      " [0.89]]\n",
      "Predicted output:\n",
      "[[0.87358284]\n",
      " [0.84228286]\n",
      " [0.85711141]]\n",
      "_________________EPOCH - 3 Ends_________________\n",
      "\n",
      "_________________EPOCH - 4 Starts_______________\n",
      "Input:\n",
      "[[0.66666667 1.        ]\n",
      " [0.33333333 0.55555556]\n",
      " [1.         0.44444444]]\n",
      "Actual Output:\n",
      "[[0.92]\n",
      " [0.86]\n",
      " [0.89]]\n",
      "Predicted output:\n",
      "[[0.87460172]\n",
      " [0.84333002]\n",
      " [0.85817433]]\n",
      "_________________EPOCH - 4 Ends_________________\n",
      "\n",
      "_________________EPOCH - 5 Starts_______________\n",
      "Input:\n",
      "[[0.66666667 1.        ]\n",
      " [0.33333333 0.55555556]\n",
      " [1.         0.44444444]]\n",
      "Actual Output:\n",
      "[[0.92]\n",
      " [0.86]\n",
      " [0.89]]\n",
      "Predicted output:\n",
      "[[0.87557571]\n",
      " [0.84433232]\n",
      " [0.85919116]]\n",
      "_________________EPOCH - 5 Ends_________________\n",
      "\n",
      "Input:\n",
      "[[0.66666667 1.        ]\n",
      " [0.33333333 0.55555556]\n",
      " [1.         0.44444444]]\n",
      "Actual output:\n",
      "[[0.92]\n",
      " [0.86]\n",
      " [0.89]]\n",
      "Predicted output:\n",
      "[[0.87557571]\n",
      " [0.84433232]\n",
      " [0.85919116]]\n"
     ]
    }
   ],
   "source": [
    "for i in range(epoch):\n",
    "    hlayer_sum = np.dot(x, wh)\n",
    "    hlayer_act = sigmoid(hlayer_sum)\n",
    "    op_sum = np.dot(hlayer_act, wout)\n",
    "    op_act = sigmoid(op_sum)\n",
    "    \n",
    "    EO = y - op_act\n",
    "    outgrad = derivatives_sigmoid(op_act)\n",
    "    d_op = EO * outgrad\n",
    "    EH = d_op.dot(wout.T)\n",
    "    hiddengrad = derivatives_sigmoid(hlayer_act)\n",
    "    d_hiddenlayer = EH * hiddengrad\n",
    "    \n",
    "    wout += hlayer_act.T.dot(d_op) * lr\n",
    "    wh += x.T.dot(d_hiddenlayer) * lr\n",
    "    \n",
    "    print(f\"_________________EPOCH - {i + 1} Starts_______________\")\n",
    "    print(f\"Input:\\n{str(x)}\")\n",
    "    print(f\"Actual Output:\\n{str(y)}\")\n",
    "    print(f\"Predicted output:\\n{op_act}\")\n",
    "    print(f\"_________________EPOCH - {i + 1} Ends_________________\\n\")\n",
    "    \n",
    "print(f\"Input:\\n{str(x)}\")\n",
    "print(f\"Actual output:\\n{str(y)}\")\n",
    "print(f\"Predicted output:\\n{op_act}\")"
   ]
  },
  {
   "cell_type": "code",
   "execution_count": null,
   "id": "dd17a504",
   "metadata": {},
   "outputs": [],
   "source": []
  }
 ],
 "metadata": {
  "kernelspec": {
   "display_name": "Python 3 (ipykernel)",
   "language": "python",
   "name": "python3"
  },
  "language_info": {
   "codemirror_mode": {
    "name": "ipython",
    "version": 3
   },
   "file_extension": ".py",
   "mimetype": "text/x-python",
   "name": "python",
   "nbconvert_exporter": "python",
   "pygments_lexer": "ipython3",
   "version": "3.11.4"
  }
 },
 "nbformat": 4,
 "nbformat_minor": 5
}
